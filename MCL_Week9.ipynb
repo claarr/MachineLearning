{
  "nbformat": 4,
  "nbformat_minor": 0,
  "metadata": {
    "colab": {
      "provenance": [],
      "mount_file_id": "1A-_0zO1IQmUtPWkX-VniBNb3zRVs8RyX",
      "authorship_tag": "ABX9TyM02nFnZgZiKI9nACqaC5+K",
      "include_colab_link": true
    },
    "kernelspec": {
      "name": "python3",
      "display_name": "Python 3"
    },
    "language_info": {
      "name": "python"
    }
  },
  "cells": [
    {
      "cell_type": "markdown",
      "metadata": {
        "id": "view-in-github",
        "colab_type": "text"
      },
      "source": [
        "<a href=\"https://colab.research.google.com/github/claarr/MachineLearning/blob/main/MCL_Week9.ipynb\" target=\"_parent\"><img src=\"https://colab.research.google.com/assets/colab-badge.svg\" alt=\"Open In Colab\"/></a>"
      ]
    },
    {
      "cell_type": "markdown",
      "source": [
        "# **Jobsheet 9 - Perceptron dan ANN**\n",
        "### Nama : Clarita Putri Anggraeni\n",
        "### Kelas : TI-3G\n",
        "### NIM : 2141720213\n",
        "\n",
        "*Github : *\n",
        "\n",
        "\n"
      ],
      "metadata": {
        "id": "0_M3eh-cnZBK"
      }
    },
    {
      "cell_type": "markdown",
      "source": [
        "# **Praktikum 1**\n",
        "## Klasifikasi Iris dengan Perceptron\n",
        "### **Deskripsi**\n",
        "Pada pratikum ini, Anda diminta untuk melakukan klasifikasi bunga iris dengan menggunakan model Perceptron. Anda dapat menggunakan dataset iris pada praktikum sebelumnya.\n",
        "Untuk nembah pemahaman Anda terkait dengan model Perceptron, pada pratkikum ini Anda akan membuat model Perceptron tanpa menggunakan library."
      ],
      "metadata": {
        "id": "37MjK76boxME"
      }
    },
    {
      "cell_type": "markdown",
      "source": [
        "**Langkah 1 - Import Library**"
      ],
      "metadata": {
        "id": "rnerqfqdpEvB"
      }
    },
    {
      "cell_type": "code",
      "execution_count": null,
      "metadata": {
        "id": "hQ8xKaiHnLS4"
      },
      "outputs": [],
      "source": [
        "import numpy as np\n",
        "import matplotlib.pyplot as plt\n",
        "import pandas as pd\n",
        "import seaborn as sns"
      ]
    },
    {
      "cell_type": "markdown",
      "source": [
        "**Langkah 2 - Load Data dan Visualisasi**"
      ],
      "metadata": {
        "id": "BWDMew5zpQY7"
      }
    },
    {
      "cell_type": "code",
      "source": [
        "df = pd.read_csv('/content/drive/MyDrive/Kuliah/SEMESTER 5/Machine Learning/iris.csv', header=None)\n",
        "setosa = df[df[4] == 'Iris-setosa']\n",
        "versicolor = df[df[4] == 'Iris-versicolor']\n",
        "virginica = df[df[4] == 'Iris-virginica']\n",
        "\n",
        "a, b = 0, 3\n",
        "plt.scatter(setosa[a], setosa[b], color='red', marker='o', label='setosa')\n",
        "plt.scatter(versicolor[a], versicolor[b], color='blue', marker='x', label='versicolor')\n",
        "\n",
        "plt.xlabel('Petal Length')\n",
        "plt.ylabel('Sepal Length')\n",
        "plt.legend(loc='upper left')\n",
        "plt.grid()\n",
        "plt.show()"
      ],
      "metadata": {
        "colab": {
          "base_uri": "https://localhost:8080/",
          "height": 449
        },
        "id": "YmHsMQxLpTsc",
        "outputId": "5c677e6f-f4bd-41ec-c4c8-d825310d1b21"
      },
      "execution_count": null,
      "outputs": [
        {
          "output_type": "display_data",
          "data": {
            "text/plain": [
              "<Figure size 640x480 with 1 Axes>"
            ],
            "image/png": "[encoded data removed]"
          },
          "metadata": {}
        }
      ]
    },
    {
      "cell_type": "markdown",
      "source": [
        "**Langkah 3 - Membuat Kelas Perceptron**"
      ],
      "metadata": {
        "id": "rCCdYv5SpWOc"
      }
    },
    {
      "cell_type": "code",
      "source": [
        "class Perceptron(object):\n",
        "    def __init__(self, eta=0.01, n_iter=10):\n",
        "        self.eta = eta\n",
        "        self.n_iter = n_iter\n",
        "\n",
        "    def fit(self, X, y):\n",
        "\n",
        "        self.w_ = np.zeros(1 + X.shape[1])\n",
        "        self.errors_ = []\n",
        "\n",
        "        for _ in range(self.n_iter):\n",
        "            errors = 0\n",
        "            for xi, target in zip(X, y):\n",
        "                update = self.eta * (target - self.predict(xi))\n",
        "                self.w_[0] += update\n",
        "                self.w_[1:] += update * xi\n",
        "                errors += int(update != 0.0)\n",
        "            self.errors_.append(errors)\n",
        "        return self\n",
        "\n",
        "    def net_input(self, X):\n",
        "        return np.dot(X, self.w_[1:]) + self.w_[0]\n",
        "\n",
        "    def predict(self, X):\n",
        "        return np.where(self.net_input(X) >= 0.0, 1, -1)"
      ],
      "metadata": {
        "id": "bXdshllWpa-B"
      },
      "execution_count": null,
      "outputs": []
    },
    {
      "cell_type": "markdown",
      "source": [
        "**Langkah 4 - Pilih Data dan Encoding Label**"
      ],
      "metadata": {
        "id": "NqYqwjKlpdLr"
      }
    },
    {
      "cell_type": "code",
      "source": [
        "y = df.iloc[0:100, 4].values # pilih 100 data awal\n",
        "y = np.where(y == 'Iris-setosa', -1, 1) # ganti coding label\n",
        "X = df.iloc[0:100, [0, 3]].values # slice data latih"
      ],
      "metadata": {
        "id": "Ie3JXI0wpgg6"
      },
      "execution_count": null,
      "outputs": []
    },
    {
      "cell_type": "markdown",
      "source": [
        "**Langkah 5 - Fitting Model**"
      ],
      "metadata": {
        "id": "uS7-gjhypiyU"
      }
    },
    {
      "cell_type": "code",
      "source": [
        "ppn = Perceptron(eta=0.1, n_iter=10)\n",
        "ppn.fit(X, y)"
      ],
      "metadata": {
        "colab": {
          "base_uri": "https://localhost:8080/"
        },
        "id": "E3suFFSQpktt",
        "outputId": "1e153fa9-1ee7-4e87-eb1c-bdb6aed7b8e2"
      },
      "execution_count": null,
      "outputs": [
        {
          "output_type": "execute_result",
          "data": {
            "text/plain": [
              "<__main__.Perceptron at 0x79d0a3f86920>"
            ]
          },
          "metadata": {},
          "execution_count": 6
        }
      ]
    },
    {
      "cell_type": "markdown",
      "source": [
        "**Langkah 6 - Visualisasi Nilai Error Per Epoch**"
      ],
      "metadata": {
        "id": "G7RAFOuApmI5"
      }
    },
    {
      "cell_type": "code",
      "source": [
        "plt.plot(range(1, len(ppn.errors_)+1), ppn.errors_)\n",
        "plt.xlabel('Epochs')\n",
        "plt.ylabel('Number of updates')\n",
        "plt.show()"
      ],
      "metadata": {
        "id": "KQi0idhopo5p",
        "colab": {
          "base_uri": "https://localhost:8080/",
          "height": 449
        },
        "outputId": "5ebdfce3-e530-49ab-c54b-40a3a430e392"
      },
      "execution_count": null,
      "outputs": [
        {
          "output_type": "display_data",
          "data": {
            "text/plain": [
              "<Figure size 640x480 with 1 Axes>"
            ],
            "image/png": "[encoded data removed]"
          },
          "metadata": {}
        }
      ]
    },
    {
      "cell_type": "markdown",
      "source": [
        "**Langkah 7 - Visualiasasi Decision Boundary**"
      ],
      "metadata": {
        "id": "dCLurrwrpqpb"
      }
    },
    {
      "cell_type": "code",
      "source": [
        "# buat fungsi untuk plot decision region\n",
        "\n",
        "from matplotlib.colors import ListedColormap\n",
        "\n",
        "def plot_decision_regions(X, y, classifier, resolution=0.02):\n",
        "    # setup marker generator and color map\n",
        "    markers = ('s', 'x', 'o', '^', 'v')\n",
        "    colors = ('r', 'b', 'g', 'k', 'grey')\n",
        "    cmap = ListedColormap(colors[:len(np.unique(y))])\n",
        "\n",
        "    # plot the decision regions by creating a pair of grid arrays xx1 and xx2 via meshgrid function in Numpy\n",
        "    x1_min, x1_max = X[:, 0].min() - 1, X[:, 0].max() + 1\n",
        "    x2_min, x2_max = X[:, 1].min() - 1, X[:, 1].max() + 1\n",
        "    xx1, xx2 = np.meshgrid(np.arange(x1_min, x1_max, resolution), np.arange(x2_min, x2_max, resolution))\n",
        "\n",
        "    # use predict method to predict the class labels z of the grid points\n",
        "    Z = classifier.predict(np.array([xx1.ravel(),xx2.ravel()]).T)\n",
        "    Z = Z.reshape(xx1.shape)\n",
        "\n",
        "    # draw the contour using matplotlib\n",
        "    plt.contourf(xx1, xx2, Z, alpha=0.4, cmap=cmap)\n",
        "    plt.xlim(xx1.min(), xx1.max())\n",
        "    plt.ylim(xx2.min(), xx2.max())\n",
        "\n",
        "    # plot class samples\n",
        "    for i, cl in enumerate(np.unique(y)):\n",
        "        plt.scatter(x=X[y==cl, 0], y=X[y==cl, 1], alpha=0.8, c=cmap(i), marker=markers[i], label=cl)"
      ],
      "metadata": {
        "id": "ZjPjNxJwps3b"
      },
      "execution_count": null,
      "outputs": []
    },
    {
      "cell_type": "markdown",
      "source": [
        "# **Praktikum 2**\n",
        "## Klasifikasi Berita dengan Perceptron\n",
        "### **Deskripsi**\n",
        "Dalam kasus ini, Anda akan melakukan klasifiaksi berita berdasarkan 3 kategori, yaitu Sport Hockey, Sport Baseball, dan Otomotif. Proses klasifikasi akan menggunakan model Perceptron."
      ],
      "metadata": {
        "id": "_HI2LuCzpuLr"
      }
    },
    {
      "cell_type": "markdown",
      "source": [
        "**Langkah 1 - Import Library**"
      ],
      "metadata": {
        "id": "pSvYShmJp6nz"
      }
    },
    {
      "cell_type": "code",
      "source": [
        "from sklearn.datasets import fetch_20newsgroups # download dataset\n",
        "from sklearn.feature_extraction.text import TfidfVectorizer\n",
        "from sklearn.linear_model import Perceptron\n",
        "from sklearn.metrics import f1_score, classification_report"
      ],
      "metadata": {
        "id": "UnHjmAaVp88j"
      },
      "execution_count": null,
      "outputs": []
    },
    {
      "cell_type": "markdown",
      "source": [
        "**Langkah 2 - Pilih Label dan Split Data**"
      ],
      "metadata": {
        "id": "4bKAwRFcp-aw"
      }
    },
    {
      "cell_type": "code",
      "source": [
        "categories = ['rec.sport.hockey', 'rec.sport.baseball', 'rec.autos']\n",
        "newsgroups_train = fetch_20newsgroups(subset='train', categories=categories, remove=('headers', 'footers', 'quotes'))\n",
        "newsgroups_test = fetch_20newsgroups(subset='test', categories=categories, remove=('headers', 'footers', 'quotes'))"
      ],
      "metadata": {
        "id": "X_HPsHUwqBCj"
      },
      "execution_count": null,
      "outputs": []
    },
    {
      "cell_type": "markdown",
      "source": [
        "**Langkah 3 - Ekstrak Fitur dan Buat Model Perceptron**"
      ],
      "metadata": {
        "id": "OsUeLDEQqChO"
      }
    },
    {
      "cell_type": "code",
      "source": [
        "# Ekstrak Fitur\n",
        "vectorizer = TfidfVectorizer()\n",
        "\n",
        "# Fit fitur\n",
        "X_train = vectorizer.fit_transform(newsgroups_train.data)\n",
        "X_test = vectorizer.transform(newsgroups_test.data)\n",
        "\n",
        "# Fit Model\n",
        "clf = Perceptron(random_state=11)\n",
        "clf.fit(X_train, newsgroups_train.target)\n",
        "\n",
        "# Prediksi\n",
        "predictions = clf.predict(X_test)\n",
        "print(classification_report(newsgroups_test.target, predictions))"
      ],
      "metadata": {
        "id": "cMrv2F4nqFZZ",
        "colab": {
          "base_uri": "https://localhost:8080/"
        },
        "outputId": "d80c6090-3eb4-4c70-a989-0b77814dbfba"
      },
      "execution_count": null,
      "outputs": [
        {
          "output_type": "stream",
          "name": "stdout",
          "text": [
            "              precision    recall  f1-score   support\n",
            "\n",
            "           0       0.88      0.88      0.88       396\n",
            "           1       0.82      0.83      0.83       397\n",
            "           2       0.88      0.87      0.87       399\n",
            "\n",
            "    accuracy                           0.86      1192\n",
            "   macro avg       0.86      0.86      0.86      1192\n",
            "weighted avg       0.86      0.86      0.86      1192\n",
            "\n"
          ]
        }
      ]
    },
    {
      "cell_type": "markdown",
      "source": [
        "**Penjelasan**\n",
        "> Dataset yang digunakan pada kode program diatas adalah 20newsgroup yang terdiri dari sekitar 20.000 dokumen. Scikit-learn bahkan menyediakan fungsi yang memberikan kemudahan untuk mengunduh dan membaca kumpulan dataset dengan menggunakan sklearn.datasets. pada kode program diatas Perceptron mampu melakukan klasifikasi multikelas; strategi yang digunakan adalah one-versus-all untuk melakukan pelatihan untuk setiap kelas dalam data training. Dokumen teks memerlukan ekstraksi fitur salah satunya adalah bobot tf-idf pada kodeprogram diatas digunakan tfidf-vectorizer.\n",
        "\n"
      ],
      "metadata": {
        "id": "uEMnKDoLqHVv"
      }
    },
    {
      "cell_type": "markdown",
      "source": [
        "# **Praktikum 3**\n",
        "## Nilai Logika XOR dengan MLP\n",
        "### **Deskripsi**\n",
        "Pada kasus sederhana ini, Anda akan menggunakan MLP untuk mendapatkan nilai biner yang dioperasikan dengan logika XOR. Perlu diingat bahwa nilai XOR berbeda dengan OR, XOR hanya akan bernilai benar jika salah satu nilai yang benar, bukan keduanya atau tidak sama sekali."
      ],
      "metadata": {
        "id": "w0RUHLuEqVw7"
      }
    },
    {
      "cell_type": "markdown",
      "source": [
        "**Langkah 1 - Import Library**"
      ],
      "metadata": {
        "id": "N1UMKlFTqkHb"
      }
    },
    {
      "cell_type": "code",
      "source": [
        "from sklearn.neural_network import MLPClassifier"
      ],
      "metadata": {
        "id": "4rs2UJ_yqxQx"
      },
      "execution_count": null,
      "outputs": []
    },
    {
      "cell_type": "markdown",
      "source": [
        "**Langah 2 - Buat Data**"
      ],
      "metadata": {
        "id": "qD5jKufQqyY5"
      }
    },
    {
      "cell_type": "code",
      "source": [
        "y = [0, 1, 1, 0] # label\n",
        "X = [[0, 0], [0, 1], [1, 0], [1, 1]] # data"
      ],
      "metadata": {
        "id": "gf6lpheEq16W"
      },
      "execution_count": null,
      "outputs": []
    },
    {
      "cell_type": "markdown",
      "source": [
        "**Langkah 3 - Fit Model**"
      ],
      "metadata": {
        "id": "CDfOMka3q4aV"
      }
    },
    {
      "cell_type": "code",
      "source": [
        "# Fit model\n",
        "clf = MLPClassifier(solver='lbfgs', activation='logistic', hidden_layer_sizes=(2,), max_iter=100, random_state=20)\n",
        "clf.fit(X, y)"
      ],
      "metadata": {
        "id": "e3bN6ztIq7RZ",
        "colab": {
          "base_uri": "https://localhost:8080/",
          "height": 92
        },
        "outputId": "fc4d9e26-b782-459e-da38-1d2fa9b9affb"
      },
      "execution_count": null,
      "outputs": [
        {
          "output_type": "execute_result",
          "data": {
            "text/plain": [
              "MLPClassifier(activation='logistic', hidden_layer_sizes=(2,), max_iter=100,\n",
              "              random_state=20, solver='lbfgs')"
            ],
            "text/html": [
              "<style>#sk-container-id-1 {color: black;background-color: white;}#sk-container-id-1 pre{padding: 0;}#sk-container-id-1 div.sk-toggleable {background-color: white;}#sk-container-id-1 label.sk-toggleable__label {cursor: pointer;display: block;width: 100%;margin-bottom: 0;padding: 0.3em;box-sizing: border-box;text-align: center;}#sk-container-id-1 label.sk-toggleable__label-arrow:before {content: \"▸\";float: left;margin-right: 0.25em;color: #696969;}#sk-container-id-1 label.sk-toggleable__label-arrow:hover:before {color: black;}#sk-container-id-1 div.sk-estimator:hover label.sk-toggleable__label-arrow:before {color: black;}#sk-container-id-1 div.sk-toggleable__content {max-height: 0;max-width: 0;overflow: hidden;text-align: left;background-color: #f0f8ff;}#sk-container-id-1 div.sk-toggleable__content pre {margin: 0.2em;color: black;border-radius: 0.25em;background-color: #f0f8ff;}#sk-container-id-1 input.sk-toggleable__control:checked~div.sk-toggleable__content {max-height: 200px;max-width: 100%;overflow: auto;}#sk-container-id-1 input.sk-toggleable__control:checked~label.sk-toggleable__label-arrow:before {content: \"▾\";}#sk-container-id-1 div.sk-estimator input.sk-toggleable__control:checked~label.sk-toggleable__label {background-color: #d4ebff;}#sk-container-id-1 div.sk-label input.sk-toggleable__control:checked~label.sk-toggleable__label {background-color: #d4ebff;}#sk-container-id-1 input.sk-hidden--visually {border: 0;clip: rect(1px 1px 1px 1px);clip: rect(1px, 1px, 1px, 1px);height: 1px;margin: -1px;overflow: hidden;padding: 0;position: absolute;width: 1px;}#sk-container-id-1 div.sk-estimator {font-family: monospace;background-color: #f0f8ff;border: 1px dotted black;border-radius: 0.25em;box-sizing: border-box;margin-bottom: 0.5em;}#sk-container-id-1 div.sk-estimator:hover {background-color: #d4ebff;}#sk-container-id-1 div.sk-parallel-item::after {content: \"\";width: 100%;border-bottom: 1px solid gray;flex-grow: 1;}#sk-container-id-1 div.sk-label:hover label.sk-toggleable__label {background-color: #d4ebff;}#sk-container-id-1 div.sk-serial::before {content: \"\";position: absolute;border-left: 1px solid gray;box-sizing: border-box;top: 0;bottom: 0;left: 50%;z-index: 0;}#sk-container-id-1 div.sk-serial {display: flex;flex-direction: column;align-items: center;background-color: white;padding-right: 0.2em;padding-left: 0.2em;position: relative;}#sk-container-id-1 div.sk-item {position: relative;z-index: 1;}#sk-container-id-1 div.sk-parallel {display: flex;align-items: stretch;justify-content: center;background-color: white;position: relative;}#sk-container-id-1 div.sk-item::before, #sk-container-id-1 div.sk-parallel-item::before {content: \"\";position: absolute;border-left: 1px solid gray;box-sizing: border-box;top: 0;bottom: 0;left: 50%;z-index: -1;}#sk-container-id-1 div.sk-parallel-item {display: flex;flex-direction: column;z-index: 1;position: relative;background-color: white;}#sk-container-id-1 div.sk-parallel-item:first-child::after {align-self: flex-end;width: 50%;}#sk-container-id-1 div.sk-parallel-item:last-child::after {align-self: flex-start;width: 50%;}#sk-container-id-1 div.sk-parallel-item:only-child::after {width: 0;}#sk-container-id-1 div.sk-dashed-wrapped {border: 1px dashed gray;margin: 0 0.4em 0.5em 0.4em;box-sizing: border-box;padding-bottom: 0.4em;background-color: white;}#sk-container-id-1 div.sk-label label {font-family: monospace;font-weight: bold;display: inline-block;line-height: 1.2em;}#sk-container-id-1 div.sk-label-container {text-align: center;}#sk-container-id-1 div.sk-container {/* jupyter's `normalize.less` sets `[hidden] { display: none; }` but bootstrap.min.css set `[hidden] { display: none !important; }` so we also need the `!important` here to be able to override the default hidden behavior on the sphinx rendered scikit-learn.org. See: https://github.com/scikit-learn/scikit-learn/issues/21755 */display: inline-block !important;position: relative;}#sk-container-id-1 div.sk-text-repr-fallback {display: none;}</style><div id=\"sk-container-id-1\" class=\"sk-top-container\"><div class=\"sk-text-repr-fallback\"><pre>MLPClassifier(activation=&#x27;logistic&#x27;, hidden_layer_sizes=(2,), max_iter=100,\n",
              "              random_state=20, solver=&#x27;lbfgs&#x27;)</pre><b>In a Jupyter environment, please rerun this cell to show the HTML representation or trust the notebook. <br />On GitHub, the HTML representation is unable to render, please try loading this page with nbviewer.org.</b></div><div class=\"sk-container\" hidden><div class=\"sk-item\"><div class=\"sk-estimator sk-toggleable\"><input class=\"sk-toggleable__control sk-hidden--visually\" id=\"sk-estimator-id-1\" type=\"checkbox\" checked><label for=\"sk-estimator-id-1\" class=\"sk-toggleable__label sk-toggleable__label-arrow\">MLPClassifier</label><div class=\"sk-toggleable__content\"><pre>MLPClassifier(activation=&#x27;logistic&#x27;, hidden_layer_sizes=(2,), max_iter=100,\n",
              "              random_state=20, solver=&#x27;lbfgs&#x27;)</pre></div></div></div></div></div>"
            ]
          },
          "metadata": {},
          "execution_count": 14
        }
      ]
    },
    {
      "cell_type": "markdown",
      "source": [
        "**Langkah 4 - Prediksi**"
      ],
      "metadata": {
        "id": "gTKE-AFSq9EM"
      }
    },
    {
      "cell_type": "code",
      "source": [
        "pred = clf.predict(X)\n",
        "print('Accuracy: %s' % clf.score(X, y))\n",
        "for i,p in enumerate(pred[:10]):\n",
        "    print('True: %s, Predicted: %s' % (y[i], p))"
      ],
      "metadata": {
        "id": "t6tu1KT1rAwX",
        "colab": {
          "base_uri": "https://localhost:8080/"
        },
        "outputId": "d7361a9f-45c8-4dd4-b635-34551965cb09"
      },
      "execution_count": null,
      "outputs": [
        {
          "output_type": "stream",
          "name": "stdout",
          "text": [
            "Accuracy: 1.0\n",
            "True: 0, Predicted: 0\n",
            "True: 1, Predicted: 1\n",
            "True: 1, Predicted: 1\n",
            "True: 0, Predicted: 0\n"
          ]
        }
      ]
    },
    {
      "cell_type": "markdown",
      "source": [
        "# **Praktikum 4**\n",
        "## Klasifikasi dengan ANN\n",
        "### **Deskripsi**\n",
        "Pada praktikum kali ini, Anda diminta untuk membuat model ANN untuk mengklasifikasi potensi seorang customer akan meninggalkan perusahaan Anda atau tidak. Istirlah populer dari fenomena ini disebut sebagai 'churn'. Tingkat churn yang tinggi (chrun rate) akan berdampak tidak baik bagi perusahaan."
      ],
      "metadata": {
        "id": "Z5i17CbQrCmz"
      }
    },
    {
      "cell_type": "markdown",
      "source": [
        "**Dataset**\n",
        "> Churn_Modelling.csv\n",
        "\n"
      ],
      "metadata": {
        "id": "DKchy8t_rK5S"
      }
    },
    {
      "cell_type": "markdown",
      "source": [
        "**Perhatian !!!**\n",
        "\n",
        "Pada praktikum ini, Anda akan menggunakan library tensorflow dari google. Oleh karena itu, Anda diharuskan untuk menginstal tensorflow terlebih dahulu.\n",
        "Anda juga perlu menyesuaikan instalasi tensorflow yang Anda gunakan pada komputer lokal, apakah komputasi pada,\n",
        "*   CPU\n",
        "*   GPU (GPU support CUDA)\n",
        "*   Apple Silicon (M1/M2)"
      ],
      "metadata": {
        "id": "Vhn0mQOYrjou"
      }
    },
    {
      "cell_type": "markdown",
      "source": [
        "### **Pra Pengolahan Data**\n",
        "\n",
        "**Langkah 1 - Import Library**"
      ],
      "metadata": {
        "id": "86vQpcuUr5QK"
      }
    },
    {
      "cell_type": "code",
      "source": [
        "import numpy as np\n",
        "import pandas as pd\n",
        "import tensorflow as tf"
      ],
      "metadata": {
        "id": "ADsDYNBIsHL0"
      },
      "execution_count": null,
      "outputs": []
    },
    {
      "cell_type": "markdown",
      "source": [
        "**Langkah 2 - Load Data**"
      ],
      "metadata": {
        "id": "SSbqfCHlsI9T"
      }
    },
    {
      "cell_type": "code",
      "source": [
        "dataset = pd.read_csv('/content/drive/MyDrive/Kuliah/SEMESTER 5/Machine Learning/Churn_Modelling.csv')\n",
        "X = dataset.iloc[:, 3:-1].values\n",
        "y = dataset.iloc[:, -1].values"
      ],
      "metadata": {
        "id": "yQRdla8nsMVD"
      },
      "execution_count": null,
      "outputs": []
    },
    {
      "cell_type": "markdown",
      "source": [
        "Cek Data"
      ],
      "metadata": {
        "id": "n0M41DgasOVd"
      }
    },
    {
      "cell_type": "code",
      "source": [
        "print(X)"
      ],
      "metadata": {
        "id": "rlzNgF7nsRd2",
        "colab": {
          "base_uri": "https://localhost:8080/"
        },
        "outputId": "c424a956-d815-43c1-b71d-f89488212c98"
      },
      "execution_count": null,
      "outputs": [
        {
          "output_type": "stream",
          "name": "stdout",
          "text": [
            "[[619 'France' 'Female' ... 1 1 101348.88]\n",
            " [608 'Spain' 'Female' ... 0 1 112542.58]\n",
            " [502 'France' 'Female' ... 1 0 113931.57]\n",
            " ...\n",
            " [709 'France' 'Female' ... 0 1 42085.58]\n",
            " [772 'Germany' 'Male' ... 1 0 92888.52]\n",
            " [792 'France' 'Female' ... 1 0 38190.78]]\n"
          ]
        }
      ]
    },
    {
      "cell_type": "markdown",
      "source": [
        "**Langkah 3 - Encoding Data Kategorikal**"
      ],
      "metadata": {
        "id": "CguRKFwQsTdH"
      }
    },
    {
      "cell_type": "code",
      "source": [
        "from sklearn.preprocessing import LabelEncoder\n",
        "le = LabelEncoder()\n",
        "X[:, 2] = le.fit_transform(X[:, 2])"
      ],
      "metadata": {
        "id": "taiDI-vpsXZp"
      },
      "execution_count": null,
      "outputs": []
    },
    {
      "cell_type": "markdown",
      "source": [
        "Cek data (X) dengan print. Hasilnya,"
      ],
      "metadata": {
        "id": "_DtOHCNGsYyC"
      }
    },
    {
      "cell_type": "code",
      "source": [
        "print(X)"
      ],
      "metadata": {
        "id": "HJOjb2eFscX3",
        "colab": {
          "base_uri": "https://localhost:8080/"
        },
        "outputId": "70c93ed3-cb86-4ef5-e31d-1b39c63ff28d"
      },
      "execution_count": null,
      "outputs": [
        {
          "output_type": "stream",
          "name": "stdout",
          "text": [
            "[[619 'France' 0 ... 1 1 101348.88]\n",
            " [608 'Spain' 0 ... 0 1 112542.58]\n",
            " [502 'France' 0 ... 1 0 113931.57]\n",
            " ...\n",
            " [709 'France' 0 ... 0 1 42085.58]\n",
            " [772 'Germany' 1 ... 1 0 92888.52]\n",
            " [792 'France' 0 ... 1 0 38190.78]]\n"
          ]
        }
      ]
    },
    {
      "cell_type": "markdown",
      "source": [
        "**Langkah 4 - Encoding Kolom \"Geography\" dengan One Hot Encoder**"
      ],
      "metadata": {
        "id": "HKzvP7Dbsij1"
      }
    },
    {
      "cell_type": "code",
      "source": [
        "from sklearn.compose import ColumnTransformer\n",
        "from sklearn.preprocessing import OneHotEncoder\n",
        "ct = ColumnTransformer(transformers=[('encoder', OneHotEncoder(), [1])], remainder='passthrough')\n",
        "X = np.array(ct.fit_transform(X))"
      ],
      "metadata": {
        "id": "n7qJtX00sn9Q"
      },
      "execution_count": null,
      "outputs": []
    },
    {
      "cell_type": "markdown",
      "source": [
        "Cek data (X) dengan print. Hasilnya,"
      ],
      "metadata": {
        "id": "rg5etVvMspkT"
      }
    },
    {
      "cell_type": "code",
      "source": [
        "print(X)"
      ],
      "metadata": {
        "id": "jDymChPtstK0",
        "colab": {
          "base_uri": "https://localhost:8080/"
        },
        "outputId": "f1f73e07-3783-4edb-8dec-c2bd410c63ae"
      },
      "execution_count": null,
      "outputs": [
        {
          "output_type": "stream",
          "name": "stdout",
          "text": [
            "[[1.0 0.0 0.0 ... 1 1 101348.88]\n",
            " [0.0 0.0 1.0 ... 0 1 112542.58]\n",
            " [1.0 0.0 0.0 ... 1 0 113931.57]\n",
            " ...\n",
            " [1.0 0.0 0.0 ... 0 1 42085.58]\n",
            " [0.0 1.0 0.0 ... 1 0 92888.52]\n",
            " [1.0 0.0 0.0 ... 1 0 38190.78]]\n"
          ]
        }
      ]
    },
    {
      "cell_type": "markdown",
      "source": [
        "**Langkah 5 - Split Data**"
      ],
      "metadata": {
        "id": "vt3j-9S_swYr"
      }
    },
    {
      "cell_type": "code",
      "source": [
        "from sklearn.model_selection import train_test_split\n",
        "X_train, X_test, y_train, y_test = train_test_split(X, y, test_size = 0.2, random_state = 0)"
      ],
      "metadata": {
        "id": "3jww3H86s1BN"
      },
      "execution_count": null,
      "outputs": []
    },
    {
      "cell_type": "markdown",
      "source": [
        "**Langkah 6 - Scaling Fitur**"
      ],
      "metadata": {
        "id": "U4LG4zlDs2gJ"
      }
    },
    {
      "cell_type": "code",
      "source": [
        "from sklearn.preprocessing import StandardScaler\n",
        "sc = StandardScaler()\n",
        "X_train = sc.fit_transform(X_train)\n",
        "X_test = sc.transform(X_test)"
      ],
      "metadata": {
        "id": "C7AmUccns5F_"
      },
      "execution_count": null,
      "outputs": []
    },
    {
      "cell_type": "markdown",
      "source": [
        "### **Membuat Model ANN**\n",
        "\n",
        "**Langkah 1 - Inisiasi Model ANN**"
      ],
      "metadata": {
        "id": "_zn7vfq4s65M"
      }
    },
    {
      "cell_type": "code",
      "source": [
        "ann = tf.keras.models.Sequential()"
      ],
      "metadata": {
        "id": "yAj6bSpGtLCl"
      },
      "execution_count": null,
      "outputs": []
    },
    {
      "cell_type": "markdown",
      "source": [
        "**Langkah 2 - Membuat Input Layer dan Hidden Layer Pertama**"
      ],
      "metadata": {
        "id": "uQGvLBegtKQ_"
      }
    },
    {
      "cell_type": "code",
      "source": [
        "ann.add(tf.keras.layers.Dense(units=6, activation='relu'))"
      ],
      "metadata": {
        "id": "LPJmt48ztOOV"
      },
      "execution_count": null,
      "outputs": []
    },
    {
      "cell_type": "markdown",
      "source": [
        "**Langkah 3 - Membuat Hidden Layer Kedua**"
      ],
      "metadata": {
        "id": "XcUDrfV9tPg5"
      }
    },
    {
      "cell_type": "code",
      "source": [
        "ann.add(tf.keras.layers.Dense(units=6, activation='relu'))"
      ],
      "metadata": {
        "id": "veSxb4XrtSBN"
      },
      "execution_count": null,
      "outputs": []
    },
    {
      "cell_type": "markdown",
      "source": [
        "**Langkah 4 - Membuat Output Layer**"
      ],
      "metadata": {
        "id": "XJFMCQaltTUC"
      }
    },
    {
      "cell_type": "code",
      "source": [
        "ann.add(tf.keras.layers.Dense(units=1, activation='sigmoid'))"
      ],
      "metadata": {
        "id": "0wIt4K-mtVTP"
      },
      "execution_count": null,
      "outputs": []
    },
    {
      "cell_type": "markdown",
      "source": [
        "### **Training Model**\n",
        "\n",
        "**Langkah 1 - Compile Model (Menyatukan Arsitektur) ANN**"
      ],
      "metadata": {
        "id": "Qfus6mwGtWkr"
      }
    },
    {
      "cell_type": "code",
      "source": [
        "ann.compile(optimizer = 'adam', loss = 'binary_crossentropy', metrics = ['accuracy'])"
      ],
      "metadata": {
        "id": "QAXe2w5Ftdu7"
      },
      "execution_count": null,
      "outputs": []
    },
    {
      "cell_type": "markdown",
      "source": [
        "**Langkah 2 - Fitting Model**"
      ],
      "metadata": {
        "id": "mYAw_mTjtfOA"
      }
    },
    {
      "cell_type": "code",
      "source": [
        "ann.fit(X_train, y_train, batch_size = 32, epochs = 100)"
      ],
      "metadata": {
        "id": "Sgij49v4thrO",
        "colab": {
          "base_uri": "https://localhost:8080/"
        },
        "outputId": "46ed940c-a845-4daf-9fc2-4a482df8247f"
      },
      "execution_count": null,
      "outputs": [
        {
          "output_type": "stream",
          "name": "stdout",
          "text": [
            "Epoch 1/100\n",
            "250/250 [==============================] - 2s 3ms/step - loss: 0.5036 - accuracy: 0.7956\n",
            "Epoch 2/100\n",
            "250/250 [==============================] - 1s 3ms/step - loss: 0.4571 - accuracy: 0.7960\n",
            "Epoch 3/100\n",
            "250/250 [==============================] - 1s 2ms/step - loss: 0.4447 - accuracy: 0.7960\n",
            "Epoch 4/100\n",
            "250/250 [==============================] - 1s 3ms/step - loss: 0.4367 - accuracy: 0.7960\n",
            "Epoch 5/100\n",
            "250/250 [==============================] - 1s 3ms/step - loss: 0.4316 - accuracy: 0.7960\n",
            "Epoch 6/100\n",
            "250/250 [==============================] - 1s 2ms/step - loss: 0.4281 - accuracy: 0.7960\n",
            "Epoch 7/100\n",
            "250/250 [==============================] - 0s 2ms/step - loss: 0.4254 - accuracy: 0.8080\n",
            "Epoch 8/100\n",
            "250/250 [==============================] - 0s 2ms/step - loss: 0.4228 - accuracy: 0.8210\n",
            "Epoch 9/100\n",
            "250/250 [==============================] - 0s 2ms/step - loss: 0.4207 - accuracy: 0.8232\n",
            "Epoch 10/100\n",
            "250/250 [==============================] - 0s 2ms/step - loss: 0.4187 - accuracy: 0.8240\n",
            "Epoch 11/100\n",
            "250/250 [==============================] - 0s 2ms/step - loss: 0.4171 - accuracy: 0.8259\n",
            "Epoch 12/100\n",
            "250/250 [==============================] - 0s 2ms/step - loss: 0.4157 - accuracy: 0.8269\n",
            "Epoch 13/100\n",
            "250/250 [==============================] - 0s 2ms/step - loss: 0.4142 - accuracy: 0.8299\n",
            "Epoch 14/100\n",
            "250/250 [==============================] - 0s 2ms/step - loss: 0.4125 - accuracy: 0.8303\n",
            "Epoch 15/100\n",
            "250/250 [==============================] - 0s 2ms/step - loss: 0.4109 - accuracy: 0.8310\n",
            "Epoch 16/100\n",
            "250/250 [==============================] - 0s 2ms/step - loss: 0.4093 - accuracy: 0.8316\n",
            "Epoch 17/100\n",
            "250/250 [==============================] - 0s 2ms/step - loss: 0.4080 - accuracy: 0.8314\n",
            "Epoch 18/100\n",
            "250/250 [==============================] - 0s 2ms/step - loss: 0.4066 - accuracy: 0.8322\n",
            "Epoch 19/100\n",
            "250/250 [==============================] - 0s 2ms/step - loss: 0.4054 - accuracy: 0.8328\n",
            "Epoch 20/100\n",
            "250/250 [==============================] - 0s 2ms/step - loss: 0.4044 - accuracy: 0.8335\n",
            "Epoch 21/100\n",
            "250/250 [==============================] - 0s 2ms/step - loss: 0.4037 - accuracy: 0.8336\n",
            "Epoch 22/100\n",
            "250/250 [==============================] - 0s 2ms/step - loss: 0.4028 - accuracy: 0.8335\n",
            "Epoch 23/100\n",
            "250/250 [==============================] - 0s 2ms/step - loss: 0.4024 - accuracy: 0.8334\n",
            "Epoch 24/100\n",
            "250/250 [==============================] - 0s 2ms/step - loss: 0.4015 - accuracy: 0.8336\n",
            "Epoch 25/100\n",
            "250/250 [==============================] - 0s 2ms/step - loss: 0.4010 - accuracy: 0.8342\n",
            "Epoch 26/100\n",
            "250/250 [==============================] - 0s 2ms/step - loss: 0.4004 - accuracy: 0.8345\n",
            "Epoch 27/100\n",
            "250/250 [==============================] - 0s 2ms/step - loss: 0.3996 - accuracy: 0.8346\n",
            "Epoch 28/100\n",
            "250/250 [==============================] - 1s 3ms/step - loss: 0.3995 - accuracy: 0.8354\n",
            "Epoch 29/100\n",
            "250/250 [==============================] - 1s 3ms/step - loss: 0.3991 - accuracy: 0.8342\n",
            "Epoch 30/100\n",
            "250/250 [==============================] - 1s 3ms/step - loss: 0.3987 - accuracy: 0.8363\n",
            "Epoch 31/100\n",
            "250/250 [==============================] - 1s 3ms/step - loss: 0.3983 - accuracy: 0.8361\n",
            "Epoch 32/100\n",
            "250/250 [==============================] - 1s 3ms/step - loss: 0.3977 - accuracy: 0.8355\n",
            "Epoch 33/100\n",
            "250/250 [==============================] - 1s 3ms/step - loss: 0.3977 - accuracy: 0.8366\n",
            "Epoch 34/100\n",
            "250/250 [==============================] - 1s 3ms/step - loss: 0.3970 - accuracy: 0.8363\n",
            "Epoch 35/100\n",
            "250/250 [==============================] - 0s 2ms/step - loss: 0.3966 - accuracy: 0.8363\n",
            "Epoch 36/100\n",
            "250/250 [==============================] - 0s 2ms/step - loss: 0.3965 - accuracy: 0.8354\n",
            "Epoch 37/100\n",
            "250/250 [==============================] - 0s 2ms/step - loss: 0.3962 - accuracy: 0.8361\n",
            "Epoch 38/100\n",
            "250/250 [==============================] - 0s 2ms/step - loss: 0.3960 - accuracy: 0.8366\n",
            "Epoch 39/100\n",
            "250/250 [==============================] - 0s 2ms/step - loss: 0.3957 - accuracy: 0.8365\n",
            "Epoch 40/100\n",
            "250/250 [==============================] - 0s 2ms/step - loss: 0.3953 - accuracy: 0.8361\n",
            "Epoch 41/100\n",
            "250/250 [==============================] - 0s 2ms/step - loss: 0.3951 - accuracy: 0.8369\n",
            "Epoch 42/100\n",
            "250/250 [==============================] - 0s 2ms/step - loss: 0.3946 - accuracy: 0.8369\n",
            "Epoch 43/100\n",
            "250/250 [==============================] - 0s 2ms/step - loss: 0.3944 - accuracy: 0.8378\n",
            "Epoch 44/100\n",
            "250/250 [==============================] - 0s 2ms/step - loss: 0.3944 - accuracy: 0.8367\n",
            "Epoch 45/100\n",
            "250/250 [==============================] - 0s 2ms/step - loss: 0.3943 - accuracy: 0.8359\n",
            "Epoch 46/100\n",
            "250/250 [==============================] - 0s 2ms/step - loss: 0.3941 - accuracy: 0.8364\n",
            "Epoch 47/100\n",
            "250/250 [==============================] - 0s 2ms/step - loss: 0.3939 - accuracy: 0.8380\n",
            "Epoch 48/100\n",
            "250/250 [==============================] - 0s 2ms/step - loss: 0.3935 - accuracy: 0.8367\n",
            "Epoch 49/100\n",
            "250/250 [==============================] - 0s 2ms/step - loss: 0.3935 - accuracy: 0.8370\n",
            "Epoch 50/100\n",
            "250/250 [==============================] - 0s 2ms/step - loss: 0.3934 - accuracy: 0.8374\n",
            "Epoch 51/100\n",
            "250/250 [==============================] - 0s 2ms/step - loss: 0.3933 - accuracy: 0.8389\n",
            "Epoch 52/100\n",
            "250/250 [==============================] - 0s 2ms/step - loss: 0.3930 - accuracy: 0.8385\n",
            "Epoch 53/100\n",
            "250/250 [==============================] - 0s 2ms/step - loss: 0.3929 - accuracy: 0.8364\n",
            "Epoch 54/100\n",
            "250/250 [==============================] - 0s 2ms/step - loss: 0.3929 - accuracy: 0.8375\n",
            "Epoch 55/100\n",
            "250/250 [==============================] - 1s 2ms/step - loss: 0.3926 - accuracy: 0.8375\n",
            "Epoch 56/100\n",
            "250/250 [==============================] - 1s 3ms/step - loss: 0.3926 - accuracy: 0.8393\n",
            "Epoch 57/100\n",
            "250/250 [==============================] - 1s 3ms/step - loss: 0.3925 - accuracy: 0.8382\n",
            "Epoch 58/100\n",
            "250/250 [==============================] - 1s 3ms/step - loss: 0.3924 - accuracy: 0.8386\n",
            "Epoch 59/100\n",
            "250/250 [==============================] - 1s 3ms/step - loss: 0.3921 - accuracy: 0.8395\n",
            "Epoch 60/100\n",
            "250/250 [==============================] - 1s 3ms/step - loss: 0.3923 - accuracy: 0.8394\n",
            "Epoch 61/100\n",
            "250/250 [==============================] - 1s 3ms/step - loss: 0.3918 - accuracy: 0.8390\n",
            "Epoch 62/100\n",
            "250/250 [==============================] - 1s 2ms/step - loss: 0.3918 - accuracy: 0.8395\n",
            "Epoch 63/100\n",
            "250/250 [==============================] - 0s 2ms/step - loss: 0.3919 - accuracy: 0.8401\n",
            "Epoch 64/100\n",
            "250/250 [==============================] - 0s 2ms/step - loss: 0.3918 - accuracy: 0.8390\n",
            "Epoch 65/100\n",
            "250/250 [==============================] - 0s 2ms/step - loss: 0.3915 - accuracy: 0.8394\n",
            "Epoch 66/100\n",
            "250/250 [==============================] - 0s 2ms/step - loss: 0.3913 - accuracy: 0.8401\n",
            "Epoch 67/100\n",
            "250/250 [==============================] - 0s 2ms/step - loss: 0.3915 - accuracy: 0.8397\n",
            "Epoch 68/100\n",
            "250/250 [==============================] - 0s 2ms/step - loss: 0.3913 - accuracy: 0.8406\n",
            "Epoch 69/100\n",
            "250/250 [==============================] - 0s 2ms/step - loss: 0.3911 - accuracy: 0.8401\n",
            "Epoch 70/100\n",
            "250/250 [==============================] - 0s 2ms/step - loss: 0.3911 - accuracy: 0.8394\n",
            "Epoch 71/100\n",
            "250/250 [==============================] - 0s 2ms/step - loss: 0.3913 - accuracy: 0.8394\n",
            "Epoch 72/100\n",
            "250/250 [==============================] - 0s 2ms/step - loss: 0.3911 - accuracy: 0.8400\n",
            "Epoch 73/100\n",
            "250/250 [==============================] - 0s 2ms/step - loss: 0.3910 - accuracy: 0.8397\n",
            "Epoch 74/100\n",
            "250/250 [==============================] - 0s 2ms/step - loss: 0.3908 - accuracy: 0.8404\n",
            "Epoch 75/100\n",
            "250/250 [==============================] - 0s 2ms/step - loss: 0.3909 - accuracy: 0.8406\n",
            "Epoch 76/100\n",
            "250/250 [==============================] - 0s 2ms/step - loss: 0.3909 - accuracy: 0.8405\n",
            "Epoch 77/100\n",
            "250/250 [==============================] - 0s 2ms/step - loss: 0.3909 - accuracy: 0.8410\n",
            "Epoch 78/100\n",
            "250/250 [==============================] - 0s 2ms/step - loss: 0.3907 - accuracy: 0.8393\n",
            "Epoch 79/100\n",
            "250/250 [==============================] - 0s 2ms/step - loss: 0.3908 - accuracy: 0.8401\n",
            "Epoch 80/100\n",
            "250/250 [==============================] - 0s 2ms/step - loss: 0.3906 - accuracy: 0.8400\n",
            "Epoch 81/100\n",
            "250/250 [==============================] - 0s 2ms/step - loss: 0.3908 - accuracy: 0.8399\n",
            "Epoch 82/100\n",
            "250/250 [==============================] - 0s 2ms/step - loss: 0.3908 - accuracy: 0.8406\n",
            "Epoch 83/100\n",
            "250/250 [==============================] - 1s 2ms/step - loss: 0.3907 - accuracy: 0.8403\n",
            "Epoch 84/100\n",
            "250/250 [==============================] - 1s 2ms/step - loss: 0.3906 - accuracy: 0.8404\n",
            "Epoch 85/100\n",
            "250/250 [==============================] - 1s 2ms/step - loss: 0.3904 - accuracy: 0.8404\n",
            "Epoch 86/100\n",
            "250/250 [==============================] - 1s 3ms/step - loss: 0.3907 - accuracy: 0.8407\n",
            "Epoch 87/100\n",
            "250/250 [==============================] - 1s 3ms/step - loss: 0.3904 - accuracy: 0.8397\n",
            "Epoch 88/100\n",
            "250/250 [==============================] - 1s 3ms/step - loss: 0.3906 - accuracy: 0.8405\n",
            "Epoch 89/100\n",
            "250/250 [==============================] - 1s 2ms/step - loss: 0.3905 - accuracy: 0.8403\n",
            "Epoch 90/100\n",
            "250/250 [==============================] - 1s 3ms/step - loss: 0.3906 - accuracy: 0.8404\n",
            "Epoch 91/100\n",
            "250/250 [==============================] - 1s 2ms/step - loss: 0.3905 - accuracy: 0.8399\n",
            "Epoch 92/100\n",
            "250/250 [==============================] - 0s 2ms/step - loss: 0.3903 - accuracy: 0.8391\n",
            "Epoch 93/100\n",
            "250/250 [==============================] - 0s 2ms/step - loss: 0.3905 - accuracy: 0.8394\n",
            "Epoch 94/100\n",
            "250/250 [==============================] - 0s 2ms/step - loss: 0.3903 - accuracy: 0.8395\n",
            "Epoch 95/100\n",
            "250/250 [==============================] - 0s 2ms/step - loss: 0.3906 - accuracy: 0.8396\n",
            "Epoch 96/100\n",
            "250/250 [==============================] - 0s 2ms/step - loss: 0.3905 - accuracy: 0.8405\n",
            "Epoch 97/100\n",
            "250/250 [==============================] - 0s 2ms/step - loss: 0.3904 - accuracy: 0.8399\n",
            "Epoch 98/100\n",
            "250/250 [==============================] - 0s 2ms/step - loss: 0.3904 - accuracy: 0.8386\n",
            "Epoch 99/100\n",
            "250/250 [==============================] - 0s 2ms/step - loss: 0.3903 - accuracy: 0.8403\n",
            "Epoch 100/100\n",
            "250/250 [==============================] - 0s 2ms/step - loss: 0.3906 - accuracy: 0.8382\n"
          ]
        },
        {
          "output_type": "execute_result",
          "data": {
            "text/plain": [
              "<keras.src.callbacks.History at 0x79d03e71b820>"
            ]
          },
          "metadata": {},
          "execution_count": 31
        }
      ]
    },
    {
      "cell_type": "markdown",
      "source": [
        "**Membuat Prediksi**\n",
        "\n",
        "Diberikan informasi sebagai berikut,\n",
        "\n",
        "*   Geography: France\n",
        "*   Credit Score: 600\n",
        "*   Gender: Male\n",
        "*   Age: 40 years old\n",
        "*   Tenure: 3 years\n",
        "*   Balance: $ 60000\n",
        "\n",
        "*   Number of Products: 2\n",
        "*   Does this customer have a credit card ? Yes\n",
        "*   Is this customer an Active Member: Yes\n",
        "*   Estimated Salary: $ 50000\n",
        "\n",
        "Apakah customer tersebut perlu dipertahankan?"
      ],
      "metadata": {
        "id": "ghzMQaPutiz_"
      }
    },
    {
      "cell_type": "markdown",
      "source": [
        "**Modelkan Data Baru dan Buat Prediksi**"
      ],
      "metadata": {
        "id": "JIU4syEOuUys"
      }
    },
    {
      "cell_type": "code",
      "source": [
        "print(ann.predict(sc.transform([[1, 0, 0, 600, 1, 40, 3, 60000, 2, 1, 1, 50000]])) > 0.5)"
      ],
      "metadata": {
        "id": "hPbRV64YuXBu",
        "colab": {
          "base_uri": "https://localhost:8080/"
        },
        "outputId": "f117cb9e-2df0-4c09-fd85-31722d9a0d91"
      },
      "execution_count": null,
      "outputs": [
        {
          "output_type": "stream",
          "name": "stdout",
          "text": [
            "1/1 [==============================] - 0s 105ms/step\n",
            "[[False]]\n"
          ]
        }
      ]
    },
    {
      "cell_type": "markdown",
      "source": [
        "Apakah hasilnya False?"
      ],
      "metadata": {
        "id": "2TL-BUmOuYWx"
      }
    },
    {
      "cell_type": "markdown",
      "source": [
        "**Prediksi Dengan Data Testing**"
      ],
      "metadata": {
        "id": "uWazHnsKuboK"
      }
    },
    {
      "cell_type": "code",
      "source": [
        "y_pred = ann.predict(X_test)\n",
        "y_pred = (y_pred > 0.5)\n",
        "print(np.concatenate((y_pred.reshape(len(y_pred),1), y_test.reshape(len(y_test),1)),1))"
      ],
      "metadata": {
        "id": "pGQf24Z6uepy",
        "colab": {
          "base_uri": "https://localhost:8080/"
        },
        "outputId": "13f0d0bf-9c0a-4cbc-9047-467795200a6e"
      },
      "execution_count": null,
      "outputs": [
        {
          "output_type": "stream",
          "name": "stdout",
          "text": [
            "63/63 [==============================] - 0s 1ms/step\n",
            "[[0 0]\n",
            " [0 1]\n",
            " [0 0]\n",
            " ...\n",
            " [0 0]\n",
            " [0 0]\n",
            " [0 0]]\n"
          ]
        }
      ]
    },
    {
      "cell_type": "markdown",
      "source": [
        "**Cek Akurasi dan Confusion Matrix**"
      ],
      "metadata": {
        "id": "QohPgBhpufJd"
      }
    },
    {
      "cell_type": "code",
      "source": [
        "from sklearn.metrics import confusion_matrix, accuracy_score\n",
        "cm = confusion_matrix(y_test, y_pred)\n",
        "print(cm)\n",
        "accuracy_score(y_test, y_pred)"
      ],
      "metadata": {
        "id": "bgy6fi6puhE5",
        "colab": {
          "base_uri": "https://localhost:8080/"
        },
        "outputId": "9a92b6c3-84cc-4e9a-94fd-a85be906308d"
      },
      "execution_count": null,
      "outputs": [
        {
          "output_type": "stream",
          "name": "stdout",
          "text": [
            "[[1548   47]\n",
            " [ 272  133]]\n"
          ]
        },
        {
          "output_type": "execute_result",
          "data": {
            "text/plain": [
              "0.8405"
            ]
          },
          "metadata": {},
          "execution_count": 34
        }
      ]
    },
    {
      "cell_type": "markdown",
      "source": [
        "# **Tugas**\n",
        "\n",
        "*   Lakukan klasifikasi pada data MNIST dengan menggunakan model ANN\n",
        "*   Anda diperbolehkan melakukan eksplorasi terhadap,\n",
        "    *    Metode pra pengolahan\n",
        "    *    Pemilihan fitur\n",
        "    *    Arsitektur ANN\n",
        "    *    Fungsi Aktiviasi\n",
        "*   ANN diimplementasikan dengan menggunakan tensorflow.\n",
        "*   **DIKERJAKAN SECARA BERKELOMPOK**\n",
        "*   **JELASKAN HASIL YANG ANDA DAPATKAN,**\n",
        "    *    **AKURASI**\n",
        "    *    **CONFUSION MATRIX**\n",
        "    *    **KONFIGURASI MODEL --> MULAI DARI PRA PENGOLAHAN SAMPAI ARSITEKTUR ANN**\n",
        "\n",
        "\n",
        "\n",
        "\n",
        "\n"
      ],
      "metadata": {
        "id": "7GY-CoYSumZX"
      }
    },
    {
      "cell_type": "markdown",
      "source": [
        "**Langkah 1 - Import Library**"
      ],
      "metadata": {
        "id": "Bi5YwCQ6vvgR"
      }
    },
    {
      "cell_type": "code",
      "source": [
        "import tensorflow as tf\n",
        "from tensorflow import keras\n",
        "from tensorflow.keras import layers\n",
        "import matplotlib.pyplot as plt"
      ],
      "metadata": {
        "id": "9gUcMyiMv0v3"
      },
      "execution_count": null,
      "outputs": []
    },
    {
      "cell_type": "markdown",
      "source": [
        "**Langkah 2 - Load Dataset MNIST**"
      ],
      "metadata": {
        "id": "G8kOzZmKv2LM"
      }
    },
    {
      "cell_type": "code",
      "source": [
        "mnist = keras.datasets.mnist\n",
        "(train_images, train_labels), (test_images, test_labels) = mnist.load_data()"
      ],
      "metadata": {
        "id": "uWa0_xc_v5LT",
        "colab": {
          "base_uri": "https://localhost:8080/"
        },
        "outputId": "1765b31c-310a-4a84-9641-424c445a4887"
      },
      "execution_count": null,
      "outputs": [
        {
          "output_type": "stream",
          "name": "stdout",
          "text": [
            "Downloading data from https://storage.googleapis.com/tensorflow/tf-keras-datasets/mnist.npz\n",
            "11490434/11490434 [==============================] - 0s 0us/step\n"
          ]
        }
      ]
    },
    {
      "cell_type": "markdown",
      "source": [
        "**Langkah 3 - Pra Pengolahan Data**\n",
        "\n",
        "Pada tahap pra pengolahan data, kita perlu mengubah data citra menjadi bentuk yang sesuai dengan model. MNIST adalah dataset citra grayscale 28x28 piksel, jadi kita perlu meratakan (flatten) setiap citra menjadi vektor 1D."
      ],
      "metadata": {
        "id": "khujKSDNv7j6"
      }
    },
    {
      "cell_type": "code",
      "source": [
        "train_images = train_images.reshape(-1, 28*28)\n",
        "test_images = test_images.reshape(-1, 28*28)"
      ],
      "metadata": {
        "id": "1c-A5frqv_Bu"
      },
      "execution_count": null,
      "outputs": []
    },
    {
      "cell_type": "code",
      "source": [
        "train_images = train_images / 255.0\n",
        "test_images = test_images / 255.0"
      ],
      "metadata": {
        "id": "A3zi_pywwBK6"
      },
      "execution_count": null,
      "outputs": []
    },
    {
      "cell_type": "markdown",
      "source": [
        "**Langkah 4 - Arsitektur ANN**"
      ],
      "metadata": {
        "id": "76kCGuyiwEGf"
      }
    },
    {
      "cell_type": "code",
      "source": [
        "model = keras.Sequential([\n",
        "    layers.Dense(128, activation='relu', input_shape=(784,)),\n",
        "    layers.Dense(64, activation='relu'),\n",
        "    layers.Dense(10, activation='softmax')\n",
        "])"
      ],
      "metadata": {
        "id": "XR_IoaYcwExy"
      },
      "execution_count": null,
      "outputs": []
    },
    {
      "cell_type": "markdown",
      "source": [
        "**Langkah 5 - Kompilasi Model**"
      ],
      "metadata": {
        "id": "d-ZixjtCwGQe"
      }
    },
    {
      "cell_type": "code",
      "source": [
        "model.compile(optimizer='adam',\n",
        "              loss='sparse_categorical_crossentropy',\n",
        "              metrics=['accuracy'])\n"
      ],
      "metadata": {
        "id": "hv4kYgu-wIB8"
      },
      "execution_count": null,
      "outputs": []
    },
    {
      "cell_type": "markdown",
      "source": [
        "**Langkah 6 - Pelatihan Model**"
      ],
      "metadata": {
        "id": "lmBC5pYZwJ7c"
      }
    },
    {
      "cell_type": "code",
      "source": [
        "model.fit(train_images, train_labels, epochs=10, validation_split=0.2)"
      ],
      "metadata": {
        "id": "s8tYP2iYwMZk",
        "colab": {
          "base_uri": "https://localhost:8080/"
        },
        "outputId": "102edd9d-1261-441f-d994-01c285aa72b2"
      },
      "execution_count": null,
      "outputs": [
        {
          "output_type": "stream",
          "name": "stdout",
          "text": [
            "Epoch 1/10\n",
            "1500/1500 [==============================] - 9s 5ms/step - loss: 0.2615 - accuracy: 0.9235 - val_loss: 0.1441 - val_accuracy: 0.9567\n",
            "Epoch 2/10\n",
            "1500/1500 [==============================] - 6s 4ms/step - loss: 0.1099 - accuracy: 0.9666 - val_loss: 0.1089 - val_accuracy: 0.9688\n",
            "Epoch 3/10\n",
            "1500/1500 [==============================] - 8s 5ms/step - loss: 0.0766 - accuracy: 0.9757 - val_loss: 0.0961 - val_accuracy: 0.9709\n",
            "Epoch 4/10\n",
            "1500/1500 [==============================] - 6s 4ms/step - loss: 0.0570 - accuracy: 0.9822 - val_loss: 0.0920 - val_accuracy: 0.9740\n",
            "Epoch 5/10\n",
            "1500/1500 [==============================] - 8s 5ms/step - loss: 0.0459 - accuracy: 0.9854 - val_loss: 0.0977 - val_accuracy: 0.9747\n",
            "Epoch 6/10\n",
            "1500/1500 [==============================] - 6s 4ms/step - loss: 0.0378 - accuracy: 0.9877 - val_loss: 0.1046 - val_accuracy: 0.9718\n",
            "Epoch 7/10\n",
            "1500/1500 [==============================] - 7s 5ms/step - loss: 0.0299 - accuracy: 0.9899 - val_loss: 0.1147 - val_accuracy: 0.9714\n",
            "Epoch 8/10\n",
            "1500/1500 [==============================] - 6s 4ms/step - loss: 0.0246 - accuracy: 0.9921 - val_loss: 0.1147 - val_accuracy: 0.9728\n",
            "Epoch 9/10\n",
            "1500/1500 [==============================] - 7s 5ms/step - loss: 0.0192 - accuracy: 0.9935 - val_loss: 0.1092 - val_accuracy: 0.9758\n",
            "Epoch 10/10\n",
            "1500/1500 [==============================] - 7s 5ms/step - loss: 0.0214 - accuracy: 0.9929 - val_loss: 0.1293 - val_accuracy: 0.9728\n"
          ]
        },
        {
          "output_type": "execute_result",
          "data": {
            "text/plain": [
              "<keras.src.callbacks.History at 0x79d03aeb5990>"
            ]
          },
          "metadata": {},
          "execution_count": 42
        }
      ]
    },
    {
      "cell_type": "markdown",
      "source": [
        "**Langkah 7 - Evaluasi Model**"
      ],
      "metadata": {
        "id": "Z39RAfhTwPBP"
      }
    },
    {
      "cell_type": "code",
      "source": [
        "test_loss, test_accuracy = model.evaluate(test_images, test_labels)\n",
        "print(\"Test accuracy: {:.4f}\".format(test_accuracy))"
      ],
      "metadata": {
        "id": "f1uzu2e2wRIi",
        "colab": {
          "base_uri": "https://localhost:8080/"
        },
        "outputId": "2b18d65f-104c-425d-fb31-708f5f53970e"
      },
      "execution_count": null,
      "outputs": [
        {
          "output_type": "stream",
          "name": "stdout",
          "text": [
            "313/313 [==============================] - 1s 3ms/step - loss: 0.1127 - accuracy: 0.9748\n",
            "Test accuracy: 0.9748\n"
          ]
        }
      ]
    },
    {
      "cell_type": "markdown",
      "source": [
        "**Langkah 8 - Confusion Matrix**"
      ],
      "metadata": {
        "id": "jr-XoRk_wTFU"
      }
    },
    {
      "cell_type": "code",
      "source": [
        "from sklearn.metrics import confusion_matrix\n",
        "\n",
        "predicted_labels = model.predict(test_images)\n",
        "predicted_labels = [tf.argmax(label).numpy() for label in predicted_labels]\n",
        "\n",
        "confusion = confusion_matrix(test_labels, predicted_labels)\n",
        "print(confusion)"
      ],
      "metadata": {
        "id": "ftRzrkxWwVUB",
        "colab": {
          "base_uri": "https://localhost:8080/"
        },
        "outputId": "93237a94-3b3b-4e7b-98bd-6e45b803331d"
      },
      "execution_count": null,
      "outputs": [
        {
          "output_type": "stream",
          "name": "stdout",
          "text": [
            "313/313 [==============================] - 1s 3ms/step\n",
            "[[ 968    1    1    0    1    1    5    0    1    2]\n",
            " [   0 1131    3    1    0    0    0    0    0    0]\n",
            " [   2    5 1014    1    1    0    3    3    3    0]\n",
            " [   0    1    5  995    0    4    0    3    2    0]\n",
            " [   1    0    2    0  955    0    7    3    0   14]\n",
            " [   3    1    0   16    0  858    7    1    5    1]\n",
            " [   2    4    2    2    3    3  941    0    1    0]\n",
            " [   0    6   11    5    1    0    0  994    2    9]\n",
            " [   1    3    9   14    6    1    5    7  919    9]\n",
            " [   3    2    1   12   10    5    0    3    0  973]]\n"
          ]
        }
      ]
    },
    {
      "cell_type": "markdown",
      "source": [
        "**Hasil yang Anda Dapatkan:**\n",
        "\n",
        "1. **Akurasi:**\n",
        "\n",
        "  Akurasi model pada data pengujian adalah sekitar 97.76%.\n",
        "  Akurasi mengukur sejauh mana model ANN dapat mengklasifikasikan digit-digit pada dataset MNIST dengan benar. Akurasi 97.76% menunjukkan bahwa model mampu mengenali sebagian besar digit dengan tingkat keberhasilan yang tinggi.\n",
        "\n",
        "2. **Confusion Matrix:**\n",
        "\n",
        "![image.png](data:image/png;base64,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)\n",
        "\n",
        "\n",
        "  *   Confusion matrix adalah tabel 10x10 yang menggambarkan performa model dalam mengklasifikasikan digit-digit dari dataset MNIST.\n",
        "  *   Diagonal utama dari kiri atas ke kanan bawah menggambarkan jumlah prediksi yang benar untuk setiap kelas (digit 0 hingga 9).\n",
        "  *   Diagonal lainnya menunjukkan kesalahan prediksi. Misalnya, baris pertama dan kolom kedua (1st row, 2nd column) berisi jumlah gambar digit 0 yang salah diprediksi sebagai digit 1.\n",
        "  *   Angka-angka di matriks ini menggambarkan jumlah gambar yang terklasifikasi dengan benar (true positives) dan yang salah (false positives dan false negatives).\n",
        "  *   Misalnya, terdapat 2 gambar digit 0 yang salah diprediksi sebagai digit 1, dan terdapat 10 gambar digit 5 yang salah diprediksi sebagai digit 3.\n",
        "\n",
        "\n",
        "3. **Konfigurasi Model:**\n",
        "*   **Pra Pengolahan Data**\n",
        "    - Citra-citra dari dataset MNIST dilatih setelah diubah menjadi vektor 1D dan dinormalisasi agar berada dalam rentang 0 hingga 1\n",
        "*   **Arsitektur ANN**\n",
        "\n",
        "    - Model menggunakan arsitektur ANN dengan tiga lapisan, yaitu satu lapisan input, dua lapisan tersembunyi, dan satu lapisan output.\n",
        "    - Input layer memiliki 784 unit (28x28 piksel) dan fungsi aktivasi ReLU\n",
        "    - Hidden layer pertama memiliki 128 unit dengan aktivasi ReLU.\n",
        "    - Hidden layer kedua memiliki 64 unit dengan aktivasi ReLU.\n",
        "    - Output layer memiliki 10 unit (sesuai dengan jumlah kelas digit) dengan aktivasi softmax.\n",
        "*   **Pelatihan Model**\n",
        "    - Model dilatih selama 10 epoch dengan menggunakan optimizer 'adam', loss function 'sparse_categorical_crossentropy' (karena ini adalah masalah klasifikasi multikelas), dan metrik akurasi.\n",
        "*   **Hasil**\n",
        "    - Model mencapai akurasi sekitar 97.76% pada data pengujian, yang menunjukkan kemampuan yang sangat baik dalam mengklasifikasikan digit-digit MNIST.\n",
        "\n",
        "\n",
        "\n",
        "\n",
        "\n",
        "\n",
        "\n",
        "\n",
        "\n",
        "\n"
      ],
      "metadata": {
        "id": "-6s_LZ_mwhRM"
      }
    }
  ]
}